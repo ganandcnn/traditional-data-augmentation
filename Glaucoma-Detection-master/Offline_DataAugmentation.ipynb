{
 "cells": [
  {
   "cell_type": "code",
   "execution_count": 15,
   "metadata": {
    "colab": {
     "base_uri": "https://localhost:8080/"
    },
    "id": "KquWEs3R8XT2",
    "outputId": "bc795f52-1a82-47ed-cab8-b03bec332e2d"
   },
   "outputs": [
    {
     "name": "stdout",
     "output_type": "stream",
     "text": [
      "(15, 256, 256, 3)\n"
     ]
    }
   ],
   "source": [
    "import tensorflow as tf\n",
    "from tensorflow.keras.preprocessing.image import ImageDataGenerator\n",
    "from skimage import io\n",
    "\n",
    "datagen = ImageDataGenerator(        \n",
    "        rotation_range = 70,\n",
    "        shear_range = 0.2,\n",
    "        zoom_range = 0.6,\n",
    "        horizontal_flip = True,\n",
    "        brightness_range = (0.5, 1.5))\n",
    "\n",
    "import numpy as np\n",
    "import os\n",
    "from PIL import Image\n",
    "\n",
    "image_directory = r\"C:\\Users\\Admin\\Desktop\\Glaucoma-Detection-master\\data\\validation\\not_glaucoma\"\n",
    "\n",
    "SIZE = 8\n",
    "\n",
    "dataset = [ ]\n",
    "\n",
    "my_images = os.listdir(image_directory)\n",
    "\n",
    "for i, image_name in enumerate(my_images):    \n",
    "    if (image_name.split('.')[2] == 'png'):        \n",
    "        image = io.imread(image_directory+\"\\\\\" + image_name)         \n",
    "        image = Image.fromarray(image, 'RGB')                \n",
    "        dataset.append(np.array(image))\n",
    "    else:\n",
    "        print('for loop not executed')\n",
    "        \n",
    "x = np.array(dataset)\n",
    "\n",
    "print(x.shape)\n",
    "\n",
    "i = 0\n",
    "\n",
    "for batch in datagen.flow(x,\n",
    "                          save_to_dir= r\"C:\\Users\\Admin\\Desktop\\Glaucoma-Detection-master\\offline augmented data\\test\\nong\",\n",
    "                          save_format='png'):    \n",
    "    i += 1    \n",
    "    if i > 20:        \n",
    "        break"
   ]
  },
  {
   "cell_type": "code",
   "execution_count": null,
   "metadata": {
    "id": "wOfkF6btD1V3"
   },
   "outputs": [],
   "source": []
  },
  {
   "cell_type": "code",
   "execution_count": null,
   "metadata": {
    "colab": {
     "base_uri": "https://localhost:8080/"
    },
    "id": "Ny6tOTG7Dm9l",
    "outputId": "bc767117-a091-4605-e5ec-185e3cb7aec2"
   },
   "outputs": [
    {
     "name": "stdout",
     "output_type": "stream",
     "text": [
      "Mounted at /content/drive\n"
     ]
    }
   ],
   "source": [
    "from google.colab import drive\n",
    "drive.mount('/content/drive')"
   ]
  },
  {
   "cell_type": "code",
   "execution_count": null,
   "metadata": {
    "id": "IBE0hpJv8XT4"
   },
   "outputs": [],
   "source": [
    "https://github.com/SonalSavaliya/Glaucoma-Detection-and-Classification\n",
    "https://github.com/kr-viku/GLAUCOMA-DETECTION"
   ]
  },
  {
   "cell_type": "code",
   "execution_count": null,
   "metadata": {
    "id": "TI5Bpjgs8XT4"
   },
   "outputs": [],
   "source": []
  }
 ],
 "metadata": {
  "accelerator": "GPU",
  "colab": {
   "collapsed_sections": [],
   "name": "Offline- DataAugmentation.ipynb",
   "provenance": []
  },
  "hide_input": false,
  "kernelspec": {
   "display_name": "Python 3 (ipykernel)",
   "language": "python",
   "name": "python3"
  },
  "language_info": {
   "codemirror_mode": {
    "name": "ipython",
    "version": 3
   },
   "file_extension": ".py",
   "mimetype": "text/x-python",
   "name": "python",
   "nbconvert_exporter": "python",
   "pygments_lexer": "ipython3",
   "version": "3.9.7"
  },
  "toc": {
   "base_numbering": 1,
   "nav_menu": {},
   "number_sections": true,
   "sideBar": true,
   "skip_h1_title": false,
   "title_cell": "Table of Contents",
   "title_sidebar": "Contents",
   "toc_cell": false,
   "toc_position": {},
   "toc_section_display": true,
   "toc_window_display": false
  }
 },
 "nbformat": 4,
 "nbformat_minor": 1
}
